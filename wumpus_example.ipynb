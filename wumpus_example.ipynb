{
 "cells": [
  {
   "cell_type": "markdown",
   "id": "f853e406",
   "metadata": {},
   "source": [
    "Wumpus world environent is from the book Artificial Intelligence: A Modern Approach  \n",
    "https://deepwiki.com/aimacode/aima-python/4.4-wumpus-world#environment-structure  \n",
    "Using code from here:  \n",
    "https://github.com/aimacode/aima-python/blob/master/agents.py  "
   ]
  },
  {
   "cell_type": "markdown",
   "id": "4a8e37d1",
   "metadata": {},
   "source": [
    "# GUI Example"
   ]
  },
  {
   "cell_type": "code",
   "execution_count": null,
   "id": "2b26da2c",
   "metadata": {},
   "outputs": [],
   "source": [
    "from ipythonblocks import BlockGrid\n",
    "from agents import *\n",
    "\n",
    "\n",
    "world_dims = (7,7)\n",
    "# world_seed = 123 \n",
    "# random.seed(world_seed)\n",
    "\n",
    "\n",
    "color = {\"Breeze\": (0, 225, 225),# Light Cyan\n",
    "        \"Pit\": (0,0,0), #Black\n",
    "        \"Gold\": (253, 208, 23), #Yellow\n",
    "        \"Glitter\": (253, 208, 23),\n",
    "        \"Wumpus\": (196,211,0), # Shrek Green\n",
    "        \"Stench\": (50,50,0), #Darker Shrek Green\n",
    "        \"Explorer\": (0, 0, 255),#Blue\n",
    "        \"Wall\": (44, 53, 57) #Dark Grey\n",
    "        }\n",
    "fill_color = (123,123,123) #Light Grey\n",
    "\n",
    "render_priority = [ # Feel free to change the order if something isn't showing up.\n",
    "    \"Explorer\",\n",
    "    \"Pit\",\n",
    "    \"Wumpus\",\n",
    "    \"Gold\",\n",
    "    \"Wall\",\n",
    "    \"Stench\",\n",
    "    \"Breeze\",\n",
    "    \"Glitter\"\n",
    "]\n",
    "\n",
    "\n",
    "def program(percepts): # Dummy function that your AI will replace.\n",
    "    '''Returns an action based on it's percepts'''\n",
    "    print(percepts)\n",
    "    print(\"Available actions: ['TurnRight', 'TurnLeft', 'Forward', 'Grab', 'Climb', 'Shoot']\")\n",
    "    return input()\n",
    "\n",
    "w = WumpusEnvironment(program, world_dims[0], world_dims[1]) # <-------- Pass your program's Main() function like so, without parenthesis.\n",
    "grid = BlockGrid(w.width, w.height, fill=fill_color)\n",
    "\n",
    "def draw_grid(world):\n",
    "    global grid\n",
    "    grid[:] = fill_color\n",
    "    for x in range(0, len(world)):\n",
    "        for y in range(0, len(world[x])):\n",
    "            if len(world[x][y]):\n",
    "                things_here = world[x][y]\n",
    "                things_here = sorted(things_here,key=lambda x: render_priority.index(x.__class__.__name__))\n",
    "                grid[y, x] = color[things_here[0].__class__.__name__]\n",
    "\n",
    "def step():\n",
    "    global grid, w\n",
    "    draw_grid(w.get_world())\n",
    "    grid.show()\n",
    "    w.step() "
   ]
  },
  {
   "cell_type": "code",
   "execution_count": null,
   "id": "bc2024f7",
   "metadata": {},
   "outputs": [],
   "source": [
    "while(not w.is_done()):\n",
    "    step()\n"
   ]
  },
  {
   "cell_type": "markdown",
   "id": "99a06680",
   "metadata": {},
   "source": [
    "# No GUI Example"
   ]
  },
  {
   "cell_type": "code",
   "execution_count": null,
   "id": "e6833304",
   "metadata": {},
   "outputs": [],
   "source": [
    "from ipythonblocks import BlockGrid\n",
    "from agents import *\n",
    "\n",
    "\n",
    "def program(percepts): # Dummy function that your AI will replace.\n",
    "    '''Returns an action based on it's percepts'''\n",
    "    print(percepts)\n",
    "    print(\"Available actions: ['TurnRight', 'TurnLeft', 'Forward', 'Grab', 'Climb', 'Shoot']\")\n",
    "    return input()\n",
    "\n",
    "\n",
    "world_dims = (7,7)\n",
    "# world_seed = 123\n",
    "# random.seed(world_seed)\n",
    "\n",
    "\n",
    "w = WumpusEnvironment(program, world_dims[0], world_dims[1]) # <-------- Pass your program's Main() function like so, without parenthesis."
   ]
  },
  {
   "cell_type": "code",
   "execution_count": null,
   "id": "58033468",
   "metadata": {},
   "outputs": [],
   "source": [
    "while(not w.is_done()): # Run the environment\n",
    "    w.step()"
   ]
  }
 ],
 "metadata": {
  "kernelspec": {
   "display_name": ".venv",
   "language": "python",
   "name": "python3"
  },
  "language_info": {
   "codemirror_mode": {
    "name": "ipython",
    "version": 3
   },
   "file_extension": ".py",
   "mimetype": "text/x-python",
   "name": "python",
   "nbconvert_exporter": "python",
   "pygments_lexer": "ipython3",
   "version": "3.12.4"
  }
 },
 "nbformat": 4,
 "nbformat_minor": 5
}
