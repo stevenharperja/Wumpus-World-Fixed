{
 "cells": [
  {
   "cell_type": "markdown",
   "id": "0256cc7d",
   "metadata": {},
   "source": [
    "# World Code"
   ]
  },
  {
   "cell_type": "code",
   "execution_count": null,
   "id": "6e6e242a",
   "metadata": {},
   "outputs": [],
   "source": [
    "from environments import *\n",
    "\n",
    "world_dims = (7,7)\n",
    "pit_probability = 0.2\n",
    "# world_seed = 123\n",
    "# random.seed(world_seed)\n",
    "\n",
    "world = WumpusEnvironment(None, world_dims[0], world_dims[1], pit_probability)"
   ]
  },
  {
   "cell_type": "markdown",
   "id": "4badfdaa",
   "metadata": {},
   "source": [
    "Exporting/Importing Worlds"
   ]
  },
  {
   "cell_type": "code",
   "execution_count": null,
   "id": "298615f7",
   "metadata": {},
   "outputs": [],
   "source": [
    "# world.export_json(\"wumpus_world1.json\")"
   ]
  },
  {
   "cell_type": "code",
   "execution_count": null,
   "id": "b933012a",
   "metadata": {},
   "outputs": [],
   "source": [
    "# #Import by providing a filename as the second argument, otherwise just put the second arg as None \n",
    "# world = WumpusEnvironment(program,\"wumpus_world1.json\")"
   ]
  },
  {
   "cell_type": "markdown",
   "id": "4a8e37d1",
   "metadata": {},
   "source": [
    "# Run world with GUI"
   ]
  },
  {
   "cell_type": "code",
   "execution_count": null,
   "id": "2b26da2c",
   "metadata": {},
   "outputs": [],
   "source": [
    "from ipythonblocks import BlockGrid\n",
    "\n",
    "color = {\"Breeze\": (0, 225, 225),# Light Cyan\n",
    "        \"Pit\": (0,0,0), #Black\n",
    "        \"Gold\": (253, 208, 23), #Yellow\n",
    "        \"Glitter\": (253, 208, 23),\n",
    "        \"Wumpus\": (196,211,0), # Shrek Green\n",
    "        \"Stench\": (50,50,0), #Darker Shrek Green\n",
    "        \"Explorer\": (0, 0, 255),#Blue\n",
    "        \"Wall\": (44, 53, 57) #Dark Grey\n",
    "        }\n",
    "fill_color = (123,123,123) #Light Grey\n",
    "\n",
    "render_priority = [\n",
    "    \"Explorer\",\n",
    "    \"Pit\",\n",
    "    \"Wumpus\",\n",
    "    \"Gold\",\n",
    "    \"Wall\",\n",
    "    \"Stench\",\n",
    "    \"Breeze\",\n",
    "    \"Glitter\"\n",
    "]\n",
    "\n",
    "grid = BlockGrid(world.width, world.height, fill=fill_color)\n",
    "\n",
    "def draw_grid(world):\n",
    "    global grid\n",
    "    grid[:] = fill_color\n",
    "    for x in range(0, len(world)):\n",
    "        for y in range(0, len(world[x])):\n",
    "            if len(world[x][y]):\n",
    "                things_here = world[x][y]\n",
    "                things_here = sorted(things_here,key=lambda x: render_priority.index(x.__class__.__name__))\n",
    "                grid[y, x] = color[things_here[0].__class__.__name__]\n",
    "\n",
    "\n",
    "draw_grid(world.get_world())\n",
    "grid.show()"
   ]
  },
  {
   "cell_type": "code",
   "execution_count": null,
   "id": "36573b60",
   "metadata": {},
   "outputs": [],
   "source": [
    "world = WumpusEnvironment(None, world_dims[0], world_dims[1], pit_probability)\n",
    "world.get_world()"
   ]
  },
  {
   "cell_type": "markdown",
   "id": "b3565115",
   "metadata": {},
   "source": [
    "Wumpus code from:  \n",
    "https://github.com/aimacode/aima-python/blob/master/agents.py  \n",
    "GUI code from:  \n",
    "https://colab.research.google.com/github/aimacode/aima-python/blob/master/agents.ipynb#scrollTo=0aW0IETPvjkT"
   ]
  }
 ],
 "metadata": {
  "kernelspec": {
   "display_name": ".venv",
   "language": "python",
   "name": "python3"
  },
  "language_info": {
   "codemirror_mode": {
    "name": "ipython",
    "version": 3
   },
   "file_extension": ".py",
   "mimetype": "text/x-python",
   "name": "python",
   "nbconvert_exporter": "python",
   "pygments_lexer": "ipython3",
   "version": "3.12.4"
  }
 },
 "nbformat": 4,
 "nbformat_minor": 5
}
