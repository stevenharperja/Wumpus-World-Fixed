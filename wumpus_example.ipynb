{
 "cells": [
  {
   "cell_type": "markdown",
   "id": "0256cc7d",
   "metadata": {},
   "source": [
    "# World Code"
   ]
  },
  {
   "cell_type": "code",
   "execution_count": 69,
   "id": "6e6e242a",
   "metadata": {},
   "outputs": [],
   "source": [
    "from environments import *\n",
    "\n",
    "world_dims = (7,7)\n",
    "pit_probability = 0.2\n",
    "# world_seed = 123\n",
    "# random.seed(world_seed)\n",
    "\n",
    "# # Pass your program's Main function as the first argument.\n",
    "world = WumpusEnvironment(None, world_dims[0], world_dims[1], pit_probability)"
   ]
  },
  {
   "cell_type": "markdown",
   "id": "4badfdaa",
   "metadata": {},
   "source": [
    "Exporting/Importing Worlds"
   ]
  },
  {
   "cell_type": "code",
   "execution_count": 70,
   "id": "298615f7",
   "metadata": {},
   "outputs": [],
   "source": [
    "# world.export_json(\"wumpus_world1.json\")"
   ]
  },
  {
   "cell_type": "code",
   "execution_count": 71,
   "id": "b933012a",
   "metadata": {},
   "outputs": [],
   "source": [
    "# #Import by providing a filename as the second argument, otherwise just put the second arg as None \n",
    "# world = WumpusEnvironment(program,\"wumpus_world1.json\")"
   ]
  },
  {
   "cell_type": "markdown",
   "id": "4a8e37d1",
   "metadata": {},
   "source": [
    "# Run world with GUI"
   ]
  },
  {
   "cell_type": "code",
   "execution_count": 72,
   "id": "2b26da2c",
   "metadata": {},
   "outputs": [
    {
     "data": {
      "text/html": [
       "<style type=\"text/css\">table.blockgrid {border: none;} .blockgrid tr {border: none;} .blockgrid td {padding: 0px;} #blocks8d3cdd7a-d5a6-47d1-a6a1-2be9016f7e11 td {border: 1px solid white;}</style><table id=\"blocks8d3cdd7a-d5a6-47d1-a6a1-2be9016f7e11\" class=\"blockgrid\"><tbody><tr><td title=\"Index: [0, 0]&#10;Color: (44, 53, 57)\" style=\"width: 20px; height: 20px;background-color: rgb(44, 53, 57);\"></td><td title=\"Index: [0, 1]&#10;Color: (44, 53, 57)\" style=\"width: 20px; height: 20px;background-color: rgb(44, 53, 57);\"></td><td title=\"Index: [0, 2]&#10;Color: (44, 53, 57)\" style=\"width: 20px; height: 20px;background-color: rgb(44, 53, 57);\"></td><td title=\"Index: [0, 3]&#10;Color: (44, 53, 57)\" style=\"width: 20px; height: 20px;background-color: rgb(44, 53, 57);\"></td><td title=\"Index: [0, 4]&#10;Color: (44, 53, 57)\" style=\"width: 20px; height: 20px;background-color: rgb(44, 53, 57);\"></td><td title=\"Index: [0, 5]&#10;Color: (44, 53, 57)\" style=\"width: 20px; height: 20px;background-color: rgb(44, 53, 57);\"></td><td title=\"Index: [0, 6]&#10;Color: (44, 53, 57)\" style=\"width: 20px; height: 20px;background-color: rgb(44, 53, 57);\"></td></tr><tr><td title=\"Index: [1, 0]&#10;Color: (44, 53, 57)\" style=\"width: 20px; height: 20px;background-color: rgb(44, 53, 57);\"></td><td title=\"Index: [1, 1]&#10;Color: (0, 0, 255)\" style=\"width: 20px; height: 20px;background-color: rgb(0, 0, 255);\"></td><td title=\"Index: [1, 2]&#10;Color: (0, 0, 0)\" style=\"width: 20px; height: 20px;background-color: rgb(0, 0, 0);\"></td><td title=\"Index: [1, 3]&#10;Color: (0, 225, 225)\" style=\"width: 20px; height: 20px;background-color: rgb(0, 225, 225);\"></td><td title=\"Index: [1, 4]&#10;Color: (0, 0, 0)\" style=\"width: 20px; height: 20px;background-color: rgb(0, 0, 0);\"></td><td title=\"Index: [1, 5]&#10;Color: (0, 225, 225)\" style=\"width: 20px; height: 20px;background-color: rgb(0, 225, 225);\"></td><td title=\"Index: [1, 6]&#10;Color: (44, 53, 57)\" style=\"width: 20px; height: 20px;background-color: rgb(44, 53, 57);\"></td></tr><tr><td title=\"Index: [2, 0]&#10;Color: (44, 53, 57)\" style=\"width: 20px; height: 20px;background-color: rgb(44, 53, 57);\"></td><td title=\"Index: [2, 1]&#10;Color: (253, 208, 23)\" style=\"width: 20px; height: 20px;background-color: rgb(253, 208, 23);\"></td><td title=\"Index: [2, 2]&#10;Color: (0, 225, 225)\" style=\"width: 20px; height: 20px;background-color: rgb(0, 225, 225);\"></td><td title=\"Index: [2, 3]&#10;Color: (123, 123, 123)\" style=\"width: 20px; height: 20px;background-color: rgb(123, 123, 123);\"></td><td title=\"Index: [2, 4]&#10;Color: (50, 50, 0)\" style=\"width: 20px; height: 20px;background-color: rgb(50, 50, 0);\"></td><td title=\"Index: [2, 5]&#10;Color: (0, 225, 225)\" style=\"width: 20px; height: 20px;background-color: rgb(0, 225, 225);\"></td><td title=\"Index: [2, 6]&#10;Color: (44, 53, 57)\" style=\"width: 20px; height: 20px;background-color: rgb(44, 53, 57);\"></td></tr><tr><td title=\"Index: [3, 0]&#10;Color: (44, 53, 57)\" style=\"width: 20px; height: 20px;background-color: rgb(44, 53, 57);\"></td><td title=\"Index: [3, 1]&#10;Color: (123, 123, 123)\" style=\"width: 20px; height: 20px;background-color: rgb(123, 123, 123);\"></td><td title=\"Index: [3, 2]&#10;Color: (0, 225, 225)\" style=\"width: 20px; height: 20px;background-color: rgb(0, 225, 225);\"></td><td title=\"Index: [3, 3]&#10;Color: (50, 50, 0)\" style=\"width: 20px; height: 20px;background-color: rgb(50, 50, 0);\"></td><td title=\"Index: [3, 4]&#10;Color: (196, 211, 0)\" style=\"width: 20px; height: 20px;background-color: rgb(196, 211, 0);\"></td><td title=\"Index: [3, 5]&#10;Color: (0, 0, 0)\" style=\"width: 20px; height: 20px;background-color: rgb(0, 0, 0);\"></td><td title=\"Index: [3, 6]&#10;Color: (44, 53, 57)\" style=\"width: 20px; height: 20px;background-color: rgb(44, 53, 57);\"></td></tr><tr><td title=\"Index: [4, 0]&#10;Color: (44, 53, 57)\" style=\"width: 20px; height: 20px;background-color: rgb(44, 53, 57);\"></td><td title=\"Index: [4, 1]&#10;Color: (0, 225, 225)\" style=\"width: 20px; height: 20px;background-color: rgb(0, 225, 225);\"></td><td title=\"Index: [4, 2]&#10;Color: (0, 0, 0)\" style=\"width: 20px; height: 20px;background-color: rgb(0, 0, 0);\"></td><td title=\"Index: [4, 3]&#10;Color: (0, 225, 225)\" style=\"width: 20px; height: 20px;background-color: rgb(0, 225, 225);\"></td><td title=\"Index: [4, 4]&#10;Color: (0, 0, 0)\" style=\"width: 20px; height: 20px;background-color: rgb(0, 0, 0);\"></td><td title=\"Index: [4, 5]&#10;Color: (0, 0, 0)\" style=\"width: 20px; height: 20px;background-color: rgb(0, 0, 0);\"></td><td title=\"Index: [4, 6]&#10;Color: (44, 53, 57)\" style=\"width: 20px; height: 20px;background-color: rgb(44, 53, 57);\"></td></tr><tr><td title=\"Index: [5, 0]&#10;Color: (44, 53, 57)\" style=\"width: 20px; height: 20px;background-color: rgb(44, 53, 57);\"></td><td title=\"Index: [5, 1]&#10;Color: (123, 123, 123)\" style=\"width: 20px; height: 20px;background-color: rgb(123, 123, 123);\"></td><td title=\"Index: [5, 2]&#10;Color: (0, 225, 225)\" style=\"width: 20px; height: 20px;background-color: rgb(0, 225, 225);\"></td><td title=\"Index: [5, 3]&#10;Color: (123, 123, 123)\" style=\"width: 20px; height: 20px;background-color: rgb(123, 123, 123);\"></td><td title=\"Index: [5, 4]&#10;Color: (0, 225, 225)\" style=\"width: 20px; height: 20px;background-color: rgb(0, 225, 225);\"></td><td title=\"Index: [5, 5]&#10;Color: (0, 225, 225)\" style=\"width: 20px; height: 20px;background-color: rgb(0, 225, 225);\"></td><td title=\"Index: [5, 6]&#10;Color: (44, 53, 57)\" style=\"width: 20px; height: 20px;background-color: rgb(44, 53, 57);\"></td></tr><tr><td title=\"Index: [6, 0]&#10;Color: (44, 53, 57)\" style=\"width: 20px; height: 20px;background-color: rgb(44, 53, 57);\"></td><td title=\"Index: [6, 1]&#10;Color: (44, 53, 57)\" style=\"width: 20px; height: 20px;background-color: rgb(44, 53, 57);\"></td><td title=\"Index: [6, 2]&#10;Color: (44, 53, 57)\" style=\"width: 20px; height: 20px;background-color: rgb(44, 53, 57);\"></td><td title=\"Index: [6, 3]&#10;Color: (44, 53, 57)\" style=\"width: 20px; height: 20px;background-color: rgb(44, 53, 57);\"></td><td title=\"Index: [6, 4]&#10;Color: (44, 53, 57)\" style=\"width: 20px; height: 20px;background-color: rgb(44, 53, 57);\"></td><td title=\"Index: [6, 5]&#10;Color: (44, 53, 57)\" style=\"width: 20px; height: 20px;background-color: rgb(44, 53, 57);\"></td><td title=\"Index: [6, 6]&#10;Color: (44, 53, 57)\" style=\"width: 20px; height: 20px;background-color: rgb(44, 53, 57);\"></td></tr></tbody></table>"
      ],
      "text/plain": [
       "<IPython.core.display.HTML object>"
      ]
     },
     "metadata": {},
     "output_type": "display_data"
    }
   ],
   "source": [
    "from ipythonblocks import BlockGrid\n",
    "\n",
    "color = {\"Breeze\": (0, 225, 225),# Light Cyan\n",
    "        \"Pit\": (0,0,0), #Black\n",
    "        \"Gold\": (253, 208, 23), #Yellow\n",
    "        \"Glitter\": (253, 208, 23),\n",
    "        \"Wumpus\": (196,211,0), # Shrek Green\n",
    "        \"Stench\": (50,50,0), #Darker Shrek Green\n",
    "        \"Explorer\": (0, 0, 255),#Blue\n",
    "        \"Wall\": (44, 53, 57) #Dark Grey\n",
    "        }\n",
    "fill_color = (123,123,123) #Light Grey\n",
    "\n",
    "render_priority = [\n",
    "    \"Explorer\",\n",
    "    \"Pit\",\n",
    "    \"Wumpus\",\n",
    "    \"Gold\",\n",
    "    \"Wall\",\n",
    "    \"Stench\",\n",
    "    \"Breeze\",\n",
    "    \"Glitter\"\n",
    "]\n",
    "\n",
    "grid = BlockGrid(world.width, world.height, fill=fill_color)\n",
    "\n",
    "def draw_grid(world):\n",
    "    global grid\n",
    "    grid[:] = fill_color\n",
    "    for x in range(0, len(world)):\n",
    "        for y in range(0, len(world[x])):\n",
    "            if len(world[x][y]):\n",
    "                things_here = world[x][y]\n",
    "                things_here = sorted(things_here,key=lambda x: render_priority.index(x.__class__.__name__))\n",
    "                grid[y, x] = color[things_here[0].__class__.__name__]\n",
    "\n",
    "\n",
    "draw_grid(world.get_world())\n",
    "grid.show()"
   ]
  },
  {
   "cell_type": "markdown",
   "id": "b3565115",
   "metadata": {},
   "source": [
    "Wumpus code from:  \n",
    "https://github.com/aimacode/aima-python/blob/master/agents.py  \n",
    "GUI code from:  \n",
    "https://colab.research.google.com/github/aimacode/aima-python/blob/master/agents.ipynb#scrollTo=0aW0IETPvjkT"
   ]
  }
 ],
 "metadata": {
  "kernelspec": {
   "display_name": ".venv",
   "language": "python",
   "name": "python3"
  },
  "language_info": {
   "codemirror_mode": {
    "name": "ipython",
    "version": 3
   },
   "file_extension": ".py",
   "mimetype": "text/x-python",
   "name": "python",
   "nbconvert_exporter": "python",
   "pygments_lexer": "ipython3",
   "version": "3.12.4"
  }
 },
 "nbformat": 4,
 "nbformat_minor": 5
}
